{
  "nbformat": 4,
  "nbformat_minor": 0,
  "metadata": {
    "colab": {
      "provenance": []
    },
    "kernelspec": {
      "name": "python3",
      "display_name": "Python 3"
    },
    "language_info": {
      "name": "python"
    }
  },
  "cells": [
    {
      "cell_type": "code",
      "execution_count": null,
      "metadata": {
        "id": "9lL-3wVhu5R9"
      },
      "outputs": [],
      "source": []
    },
    {
      "cell_type": "code",
      "source": [
        "class BankAccount:\n",
        "    def __init__(self, account_holder, balance=0):\n",
        "        self.account_holder = account_holder\n",
        "        self.balance = balance\n",
        "\n",
        "    def deposit(self, amount):\n",
        "        if amount > 0:\n",
        "            self.balance += amount\n",
        "            print(f\"₹{amount} deposited successfully.\")\n",
        "        else:\n",
        "            print(\"Deposit amount must be positive.\")\n",
        "\n",
        "    def withdraw(self, amount):\n",
        "        if amount <= self.balance:\n",
        "            self.balance -= amount\n",
        "            print(f\"₹{amount} withdrawn successfully.\")\n",
        "        else:\n",
        "            print(\"Insufficient balance.\")\n",
        "\n",
        "    def check_balance(self):\n",
        "        print(f\"Account Holder: {self.account_holder}\")\n",
        "        print(f\"Current Balance: ₹{self.balance}\")\n",
        "\n",
        "\n",
        "# Example usage\n",
        "def main():\n",
        "    print(\"Welcome to Simple Bank!\")\n",
        "    name = input(\"Enter account holder name: \")\n",
        "    account = BankAccount(name)\n",
        "\n",
        "    while True:\n",
        "        print(\"\\nChoose an option:\")\n",
        "        print(\"1. Deposit\")\n",
        "        print(\"2. Withdraw\")\n",
        "        print(\"3. Check Balance\")\n",
        "        print(\"4. Exit\")\n",
        "\n",
        "        choice = input(\"Enter your choice (1-4): \")\n",
        "\n",
        "        if choice == \"1\":\n",
        "            amount = float(input(\"Enter amount to deposit: ₹\"))\n",
        "            account.deposit(amount)\n",
        "        elif choice == \"2\":\n",
        "            amount = float(input(\"Enter amount to withdraw: ₹\"))\n",
        "            account.withdraw(amount)\n",
        "        elif choice == \"3\":\n",
        "            account.check_balance()\n",
        "        elif choice == \"4\":\n",
        "            print(\"Thank you for using Simple Bank!\")\n",
        "            break\n",
        "        else:\n",
        "            print(\"Invalid option. Please try again.\")\n",
        "\n",
        "\n",
        "if __name__ == \"__main__\":\n",
        "    main()"
      ],
      "metadata": {
        "colab": {
          "base_uri": "https://localhost:8080/"
        },
        "id": "4J3JTslmvRAH",
        "outputId": "0bf734c1-cb50-4b4f-fc4a-acba55fa20b0"
      },
      "execution_count": null,
      "outputs": [
        {
          "output_type": "stream",
          "name": "stdout",
          "text": [
            "Welcome to Simple Bank!\n",
            "Enter account holder name: Ankita Sharma\n",
            "\n",
            "Choose an option:\n",
            "1. Deposit\n",
            "2. Withdraw\n",
            "3. Check Balance\n",
            "4. Exit\n",
            "Enter your choice (1-4): 3\n",
            "Account Holder: Ankita Sharma\n",
            "Current Balance: ₹0\n",
            "\n",
            "Choose an option:\n",
            "1. Deposit\n",
            "2. Withdraw\n",
            "3. Check Balance\n",
            "4. Exit\n"
          ]
        }
      ]
    },
    {
      "cell_type": "code",
      "source": [],
      "metadata": {
        "id": "TqJn96oTveN4"
      },
      "execution_count": null,
      "outputs": []
    }
  ]
}